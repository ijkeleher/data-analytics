{
 "cells": [
  {
   "cell_type": "markdown",
   "metadata": {
    "colab_type": "text",
    "id": "MR3_aPfT5YXh"
   },
   "source": [
    "# Exploratory of diamonds .csv dataset"
   ]
  },
  {
   "cell_type": "code",
   "execution_count": 5,
   "metadata": {
    "colab_type": "text",
    "id": "ZjMc9YoQ5Uwc"
   },
   "outputs": [],
   "source": [
    "import pandas as pd\n",
    "import numpy as np\n",
    "import matplotlib.pyplot as plt\n",
    "import statsmodels.api as sm\n",
    "import statsmodels.formula.api as smf"
   ]
  },
  {
   "cell_type": "code",
   "execution_count": 0,
   "metadata": {
    "colab": {},
    "colab_type": "code",
    "id": "j0njfjTx5zAr"
   },
   "outputs": [],
   "source": [
    "df = pd.read_csv('https://github.com/vaksakalli/datasets/raw/master/diamonds.csv')"
   ]
  },
  {
   "cell_type": "markdown",
   "metadata": {},
   "source": [
    "# Table of contents\n",
    "1. [Introduction](#introduction)\n",
    "2. [Data](#data)\n",
    "    1. [Statsmodel Linear Regression Summary](#substats)\n",
    "3. [Another paragraph](#paragraph2)"
   ]
  },
  {
   "cell_type": "markdown",
   "metadata": {},
   "source": [
    "## This is the introduction <a name=\"introduction\"></a>\n",
    "Some introduction text, formatted in heading 2 style"
   ]
  },
  {
   "cell_type": "markdown",
   "metadata": {},
   "source": [
    "## Data Insights <a name=\"data\"></a>\n",
    "A summary of plots etc., formatted in heading 2 style"
   ]
  },
  {
   "cell_type": "markdown",
   "metadata": {},
   "source": [
    "### Data Insights <a name=\"substats\"></a>\n",
    "A summary of plots etc., formatted in heading 2 style"
   ]
  },
  {
   "cell_type": "code",
   "execution_count": 8,
   "metadata": {},
   "outputs": [
    {
     "name": "stdout",
     "output_type": "stream",
     "text": [
      "       carat        cut color\n",
      "28546   0.30    Premium     I\n",
      "21023   1.51    Premium     D\n",
      "4555    0.90  Very Good     H\n",
      "10454   1.00    Premium     H\n",
      "52073   0.73      Ideal     F\n",
      "                            OLS Regression Results                            \n",
      "==============================================================================\n",
      "Dep. Variable:                  carat   R-squared:                       0.124\n",
      "Model:                            OLS   Adj. R-squared:                  0.123\n",
      "Method:                 Least Squares   F-statistic:                     761.0\n",
      "Date:                Fri, 04 Oct 2019   Prob (F-statistic):               0.00\n",
      "Time:                        16:06:14   Log-Likelihood:                -32710.\n",
      "No. Observations:               53940   AIC:                         6.544e+04\n",
      "Df Residuals:                   53929   BIC:                         6.554e+04\n",
      "Df Model:                          10                                         \n",
      "Covariance Type:            nonrobust                                         \n",
      "====================================================================================\n",
      "                       coef    std err          t      P>|t|      [0.025      0.975]\n",
      "------------------------------------------------------------------------------------\n",
      "Intercept            0.8886      0.012     72.724      0.000       0.865       0.913\n",
      "cut[T.Good]         -0.1769      0.013    -13.873      0.000      -0.202      -0.152\n",
      "cut[T.Ideal]        -0.3150      0.011    -27.453      0.000      -0.338      -0.293\n",
      "cut[T.Premium]      -0.1407      0.012    -12.037      0.000      -0.164      -0.118\n",
      "cut[T.Very Good]    -0.2170      0.012    -18.422      0.000      -0.240      -0.194\n",
      "color[T.E]          -0.0017      0.007     -0.238      0.812      -0.015       0.012\n",
      "color[T.F]           0.0747      0.007     10.591      0.000       0.061       0.089\n",
      "color[T.G]           0.1131      0.007     16.578      0.000       0.100       0.126\n",
      "color[T.H]           0.2440      0.007     33.556      0.000       0.230       0.258\n",
      "color[T.I]           0.3622      0.008     44.781      0.000       0.346       0.378\n",
      "color[T.J]           0.4863      0.010     48.778      0.000       0.467       0.506\n",
      "==============================================================================\n",
      "Omnibus:                     6387.406   Durbin-Watson:                   0.223\n",
      "Prob(Omnibus):                  0.000   Jarque-Bera (JB):             9333.429\n",
      "Skew:                           0.894   Prob(JB):                         0.00\n",
      "Kurtosis:                       3.977   Cond. No.                         15.9\n",
      "==============================================================================\n",
      "\n",
      "Warnings:\n",
      "[1] Standard Errors assume that the covariance matrix of the errors is correctly specified.\n"
     ]
    }
   ],
   "source": [
    "# Load data\n",
    "diamonds = pd.read_csv('https://github.com/vaksakalli/datasets/raw/master/diamonds.csv')\n",
    "diamonds = diamonds.iloc[:,[0,1,2]]\n",
    "\n",
    "print(diamonds.sample(5))\n",
    "diamonds.columns = ['carat', 'cut', 'color']\n",
    "\n",
    "model = sm.formula.ols(formula = \"carat ~ cut + color\", data = diamonds)\n",
    "model_fitted = model.fit()\n",
    "print(model_fitted.summary())"
   ]
  },
  {
   "cell_type": "code",
   "execution_count": 40,
   "metadata": {
    "colab": {
     "base_uri": "https://localhost:8080/",
     "height": 206
    },
    "colab_type": "code",
    "executionInfo": {
     "elapsed": 2505,
     "status": "ok",
     "timestamp": 1568772001213,
     "user": {
      "displayName": "Bernard O'meara",
      "photoUrl": "https://lh3.googleusercontent.com/a-/AAuE7mBr4-B95YsoQ3i1u9jqjEnVFKokkvd5ysVyPBie=s64",
      "userId": "13613234899726494423"
     },
     "user_tz": -600
    },
    "id": "jMBeQFAJ7M9m",
    "outputId": "eca882ed-0654-4882-ddfa-62a0a1796750"
   },
   "outputs": [
    {
     "data": {
      "text/html": [
       "<div>\n",
       "<style scoped>\n",
       "    .dataframe tbody tr th:only-of-type {\n",
       "        vertical-align: middle;\n",
       "    }\n",
       "\n",
       "    .dataframe tbody tr th {\n",
       "        vertical-align: top;\n",
       "    }\n",
       "\n",
       "    .dataframe thead th {\n",
       "        text-align: right;\n",
       "    }\n",
       "</style>\n",
       "<table border=\"1\" class=\"dataframe\">\n",
       "  <thead>\n",
       "    <tr style=\"text-align: right;\">\n",
       "      <th></th>\n",
       "      <th>carat</th>\n",
       "      <th>cut</th>\n",
       "      <th>color</th>\n",
       "      <th>clarity</th>\n",
       "      <th>depth</th>\n",
       "      <th>table</th>\n",
       "      <th>x</th>\n",
       "      <th>y</th>\n",
       "      <th>z</th>\n",
       "      <th>price</th>\n",
       "    </tr>\n",
       "  </thead>\n",
       "  <tbody>\n",
       "    <tr>\n",
       "      <th>0</th>\n",
       "      <td>0.23</td>\n",
       "      <td>Ideal</td>\n",
       "      <td>E</td>\n",
       "      <td>SI2</td>\n",
       "      <td>61.5</td>\n",
       "      <td>55.0</td>\n",
       "      <td>3.95</td>\n",
       "      <td>3.98</td>\n",
       "      <td>2.43</td>\n",
       "      <td>326</td>\n",
       "    </tr>\n",
       "    <tr>\n",
       "      <th>1</th>\n",
       "      <td>0.21</td>\n",
       "      <td>Premium</td>\n",
       "      <td>E</td>\n",
       "      <td>SI1</td>\n",
       "      <td>59.8</td>\n",
       "      <td>61.0</td>\n",
       "      <td>3.89</td>\n",
       "      <td>3.84</td>\n",
       "      <td>2.31</td>\n",
       "      <td>326</td>\n",
       "    </tr>\n",
       "    <tr>\n",
       "      <th>2</th>\n",
       "      <td>0.23</td>\n",
       "      <td>Good</td>\n",
       "      <td>E</td>\n",
       "      <td>VS1</td>\n",
       "      <td>56.9</td>\n",
       "      <td>65.0</td>\n",
       "      <td>4.05</td>\n",
       "      <td>4.07</td>\n",
       "      <td>2.31</td>\n",
       "      <td>327</td>\n",
       "    </tr>\n",
       "    <tr>\n",
       "      <th>3</th>\n",
       "      <td>0.29</td>\n",
       "      <td>Premium</td>\n",
       "      <td>I</td>\n",
       "      <td>VS2</td>\n",
       "      <td>62.4</td>\n",
       "      <td>58.0</td>\n",
       "      <td>4.20</td>\n",
       "      <td>4.23</td>\n",
       "      <td>2.63</td>\n",
       "      <td>334</td>\n",
       "    </tr>\n",
       "    <tr>\n",
       "      <th>4</th>\n",
       "      <td>0.31</td>\n",
       "      <td>Good</td>\n",
       "      <td>J</td>\n",
       "      <td>SI2</td>\n",
       "      <td>63.3</td>\n",
       "      <td>58.0</td>\n",
       "      <td>4.34</td>\n",
       "      <td>4.35</td>\n",
       "      <td>2.75</td>\n",
       "      <td>335</td>\n",
       "    </tr>\n",
       "  </tbody>\n",
       "</table>\n",
       "</div>"
      ],
      "text/plain": [
       "   carat      cut color clarity  depth  table     x     y     z  price\n",
       "0   0.23    Ideal     E     SI2   61.5   55.0  3.95  3.98  2.43    326\n",
       "1   0.21  Premium     E     SI1   59.8   61.0  3.89  3.84  2.31    326\n",
       "2   0.23     Good     E     VS1   56.9   65.0  4.05  4.07  2.31    327\n",
       "3   0.29  Premium     I     VS2   62.4   58.0  4.20  4.23  2.63    334\n",
       "4   0.31     Good     J     SI2   63.3   58.0  4.34  4.35  2.75    335"
      ]
     },
     "execution_count": 40,
     "metadata": {
      "tags": []
     },
     "output_type": "execute_result"
    }
   ],
   "source": [
    "df.head()"
   ]
  },
  {
   "cell_type": "code",
   "execution_count": 41,
   "metadata": {
    "colab": {
     "base_uri": "https://localhost:8080/",
     "height": 206
    },
    "colab_type": "code",
    "executionInfo": {
     "elapsed": 2490,
     "status": "ok",
     "timestamp": 1568772001215,
     "user": {
      "displayName": "Bernard O'meara",
      "photoUrl": "https://lh3.googleusercontent.com/a-/AAuE7mBr4-B95YsoQ3i1u9jqjEnVFKokkvd5ysVyPBie=s64",
      "userId": "13613234899726494423"
     },
     "user_tz": -600
    },
    "id": "iqmXXjJz-AAG",
    "outputId": "18a7cdd8-3fba-49ef-887c-1e75f1022ff2"
   },
   "outputs": [
    {
     "data": {
      "text/html": [
       "<div>\n",
       "<style scoped>\n",
       "    .dataframe tbody tr th:only-of-type {\n",
       "        vertical-align: middle;\n",
       "    }\n",
       "\n",
       "    .dataframe tbody tr th {\n",
       "        vertical-align: top;\n",
       "    }\n",
       "\n",
       "    .dataframe thead th {\n",
       "        text-align: right;\n",
       "    }\n",
       "</style>\n",
       "<table border=\"1\" class=\"dataframe\">\n",
       "  <thead>\n",
       "    <tr style=\"text-align: right;\">\n",
       "      <th></th>\n",
       "      <th>carat</th>\n",
       "      <th>cut</th>\n",
       "      <th>color</th>\n",
       "      <th>clarity</th>\n",
       "      <th>depth</th>\n",
       "      <th>table</th>\n",
       "      <th>x</th>\n",
       "      <th>y</th>\n",
       "      <th>z</th>\n",
       "      <th>price</th>\n",
       "    </tr>\n",
       "  </thead>\n",
       "  <tbody>\n",
       "    <tr>\n",
       "      <th>53935</th>\n",
       "      <td>0.72</td>\n",
       "      <td>Ideal</td>\n",
       "      <td>D</td>\n",
       "      <td>SI1</td>\n",
       "      <td>60.8</td>\n",
       "      <td>57.0</td>\n",
       "      <td>5.75</td>\n",
       "      <td>5.76</td>\n",
       "      <td>3.50</td>\n",
       "      <td>2757</td>\n",
       "    </tr>\n",
       "    <tr>\n",
       "      <th>53936</th>\n",
       "      <td>0.72</td>\n",
       "      <td>Good</td>\n",
       "      <td>D</td>\n",
       "      <td>SI1</td>\n",
       "      <td>63.1</td>\n",
       "      <td>55.0</td>\n",
       "      <td>5.69</td>\n",
       "      <td>5.75</td>\n",
       "      <td>3.61</td>\n",
       "      <td>2757</td>\n",
       "    </tr>\n",
       "    <tr>\n",
       "      <th>53937</th>\n",
       "      <td>0.70</td>\n",
       "      <td>Very Good</td>\n",
       "      <td>D</td>\n",
       "      <td>SI1</td>\n",
       "      <td>62.8</td>\n",
       "      <td>60.0</td>\n",
       "      <td>5.66</td>\n",
       "      <td>5.68</td>\n",
       "      <td>3.56</td>\n",
       "      <td>2757</td>\n",
       "    </tr>\n",
       "    <tr>\n",
       "      <th>53938</th>\n",
       "      <td>0.86</td>\n",
       "      <td>Premium</td>\n",
       "      <td>H</td>\n",
       "      <td>SI2</td>\n",
       "      <td>61.0</td>\n",
       "      <td>58.0</td>\n",
       "      <td>6.15</td>\n",
       "      <td>6.12</td>\n",
       "      <td>3.74</td>\n",
       "      <td>2757</td>\n",
       "    </tr>\n",
       "    <tr>\n",
       "      <th>53939</th>\n",
       "      <td>0.75</td>\n",
       "      <td>Ideal</td>\n",
       "      <td>D</td>\n",
       "      <td>SI2</td>\n",
       "      <td>62.2</td>\n",
       "      <td>55.0</td>\n",
       "      <td>5.83</td>\n",
       "      <td>5.87</td>\n",
       "      <td>3.64</td>\n",
       "      <td>2757</td>\n",
       "    </tr>\n",
       "  </tbody>\n",
       "</table>\n",
       "</div>"
      ],
      "text/plain": [
       "       carat        cut color clarity  depth  table     x     y     z  price\n",
       "53935   0.72      Ideal     D     SI1   60.8   57.0  5.75  5.76  3.50   2757\n",
       "53936   0.72       Good     D     SI1   63.1   55.0  5.69  5.75  3.61   2757\n",
       "53937   0.70  Very Good     D     SI1   62.8   60.0  5.66  5.68  3.56   2757\n",
       "53938   0.86    Premium     H     SI2   61.0   58.0  6.15  6.12  3.74   2757\n",
       "53939   0.75      Ideal     D     SI2   62.2   55.0  5.83  5.87  3.64   2757"
      ]
     },
     "execution_count": 41,
     "metadata": {
      "tags": []
     },
     "output_type": "execute_result"
    }
   ],
   "source": [
    "df.tail()"
   ]
  },
  {
   "cell_type": "code",
   "execution_count": 42,
   "metadata": {
    "colab": {
     "base_uri": "https://localhost:8080/",
     "height": 36
    },
    "colab_type": "code",
    "executionInfo": {
     "elapsed": 2477,
     "status": "ok",
     "timestamp": 1568772001218,
     "user": {
      "displayName": "Bernard O'meara",
      "photoUrl": "https://lh3.googleusercontent.com/a-/AAuE7mBr4-B95YsoQ3i1u9jqjEnVFKokkvd5ysVyPBie=s64",
      "userId": "13613234899726494423"
     },
     "user_tz": -600
    },
    "id": "xogfQ2B_7-BV",
    "outputId": "b17eee84-c6d1-426d-f47b-dbdaa55dc2f5"
   },
   "outputs": [
    {
     "data": {
      "text/plain": [
       "(53940, 10)"
      ]
     },
     "execution_count": 42,
     "metadata": {
      "tags": []
     },
     "output_type": "execute_result"
    }
   ],
   "source": [
    "df.shape"
   ]
  },
  {
   "cell_type": "markdown",
   "metadata": {
    "colab_type": "text",
    "id": "ojs789iD8ovg"
   },
   "source": [
    "Format: \n",
    "A data frame with 53940 rows and 10 variables:\n",
    "\n",
    "* price: \n",
    "    price in US dollars (\\$326--\\$18,823)\n",
    "    \n",
    "* carat: \n",
    "    weight of the diamond (0.2--5.01)\n",
    "    \n",
    "* cut: \n",
    "    quality of the cut (Fair, Good, Very Good, Premium, Ideal)\n",
    "    \n",
    "* color: \n",
    "    diamond colour, from D (best) to J (worst)\n",
    "    \n",
    "* clarity: \n",
    "    a measurement of how clear the diamond is (I1 (worst), SI2, SI1, VS2, VS1, VVS2, VVS1, IF (best))\n",
    "    \n",
    "* x: \n",
    "    length in mm (0--10.74)\n",
    "    \n",
    "* y: \n",
    "    width in mm (0--58.9)\n",
    "    \n",
    "* z: \n",
    "    depth in mm (0--31.8)\n",
    "    \n",
    "* depth: \n",
    "    total depth percentage = z / mean(x, y) = 2 * z / (x + y) (43--79)\n",
    "    \n",
    "* table: \n",
    "    width of top of diamond relative to widest point (43--95)\n"
   ]
  },
  {
   "cell_type": "code",
   "execution_count": 0,
   "metadata": {
    "colab": {},
    "colab_type": "code",
    "id": "ARWbic8e8LkA"
   },
   "outputs": [],
   "source": [
    "sample = df.sample(500)\n"
   ]
  },
  {
   "cell_type": "code",
   "execution_count": 44,
   "metadata": {
    "colab": {
     "base_uri": "https://localhost:8080/",
     "height": 206
    },
    "colab_type": "code",
    "executionInfo": {
     "elapsed": 2447,
     "status": "ok",
     "timestamp": 1568772001222,
     "user": {
      "displayName": "Bernard O'meara",
      "photoUrl": "https://lh3.googleusercontent.com/a-/AAuE7mBr4-B95YsoQ3i1u9jqjEnVFKokkvd5ysVyPBie=s64",
      "userId": "13613234899726494423"
     },
     "user_tz": -600
    },
    "id": "sLU6hQOcCZ3Z",
    "outputId": "90f7996b-d68a-43ef-b8ff-2e7829d39e26"
   },
   "outputs": [
    {
     "data": {
      "text/html": [
       "<div>\n",
       "<style scoped>\n",
       "    .dataframe tbody tr th:only-of-type {\n",
       "        vertical-align: middle;\n",
       "    }\n",
       "\n",
       "    .dataframe tbody tr th {\n",
       "        vertical-align: top;\n",
       "    }\n",
       "\n",
       "    .dataframe thead th {\n",
       "        text-align: right;\n",
       "    }\n",
       "</style>\n",
       "<table border=\"1\" class=\"dataframe\">\n",
       "  <thead>\n",
       "    <tr style=\"text-align: right;\">\n",
       "      <th></th>\n",
       "      <th>carat</th>\n",
       "      <th>cut</th>\n",
       "      <th>color</th>\n",
       "      <th>clarity</th>\n",
       "      <th>depth</th>\n",
       "      <th>table</th>\n",
       "      <th>x</th>\n",
       "      <th>y</th>\n",
       "      <th>z</th>\n",
       "      <th>price</th>\n",
       "    </tr>\n",
       "  </thead>\n",
       "  <tbody>\n",
       "    <tr>\n",
       "      <th>6197</th>\n",
       "      <td>1.03</td>\n",
       "      <td>Ideal</td>\n",
       "      <td>I</td>\n",
       "      <td>SI2</td>\n",
       "      <td>62.2</td>\n",
       "      <td>57.0</td>\n",
       "      <td>6.50</td>\n",
       "      <td>6.46</td>\n",
       "      <td>4.03</td>\n",
       "      <td>3997</td>\n",
       "    </tr>\n",
       "    <tr>\n",
       "      <th>14144</th>\n",
       "      <td>1.22</td>\n",
       "      <td>Premium</td>\n",
       "      <td>G</td>\n",
       "      <td>SI2</td>\n",
       "      <td>61.9</td>\n",
       "      <td>58.0</td>\n",
       "      <td>6.88</td>\n",
       "      <td>6.79</td>\n",
       "      <td>4.23</td>\n",
       "      <td>5739</td>\n",
       "    </tr>\n",
       "    <tr>\n",
       "      <th>23029</th>\n",
       "      <td>0.33</td>\n",
       "      <td>Ideal</td>\n",
       "      <td>G</td>\n",
       "      <td>SI1</td>\n",
       "      <td>61.3</td>\n",
       "      <td>56.0</td>\n",
       "      <td>4.51</td>\n",
       "      <td>4.46</td>\n",
       "      <td>2.75</td>\n",
       "      <td>631</td>\n",
       "    </tr>\n",
       "    <tr>\n",
       "      <th>34480</th>\n",
       "      <td>0.33</td>\n",
       "      <td>Premium</td>\n",
       "      <td>E</td>\n",
       "      <td>VS2</td>\n",
       "      <td>60.6</td>\n",
       "      <td>58.0</td>\n",
       "      <td>4.49</td>\n",
       "      <td>4.45</td>\n",
       "      <td>2.71</td>\n",
       "      <td>866</td>\n",
       "    </tr>\n",
       "    <tr>\n",
       "      <th>16072</th>\n",
       "      <td>1.02</td>\n",
       "      <td>Ideal</td>\n",
       "      <td>G</td>\n",
       "      <td>VS2</td>\n",
       "      <td>62.8</td>\n",
       "      <td>57.0</td>\n",
       "      <td>6.36</td>\n",
       "      <td>6.45</td>\n",
       "      <td>4.02</td>\n",
       "      <td>6418</td>\n",
       "    </tr>\n",
       "  </tbody>\n",
       "</table>\n",
       "</div>"
      ],
      "text/plain": [
       "       carat      cut color clarity  depth  table     x     y     z  price\n",
       "6197    1.03    Ideal     I     SI2   62.2   57.0  6.50  6.46  4.03   3997\n",
       "14144   1.22  Premium     G     SI2   61.9   58.0  6.88  6.79  4.23   5739\n",
       "23029   0.33    Ideal     G     SI1   61.3   56.0  4.51  4.46  2.75    631\n",
       "34480   0.33  Premium     E     VS2   60.6   58.0  4.49  4.45  2.71    866\n",
       "16072   1.02    Ideal     G     VS2   62.8   57.0  6.36  6.45  4.02   6418"
      ]
     },
     "execution_count": 44,
     "metadata": {
      "tags": []
     },
     "output_type": "execute_result"
    }
   ],
   "source": [
    "sample.head()"
   ]
  },
  {
   "cell_type": "code",
   "execution_count": 45,
   "metadata": {
    "colab": {
     "base_uri": "https://localhost:8080/",
     "height": 269
    },
    "colab_type": "code",
    "executionInfo": {
     "elapsed": 2436,
     "status": "ok",
     "timestamp": 1568772001223,
     "user": {
      "displayName": "Bernard O'meara",
      "photoUrl": "https://lh3.googleusercontent.com/a-/AAuE7mBr4-B95YsoQ3i1u9jqjEnVFKokkvd5ysVyPBie=s64",
      "userId": "13613234899726494423"
     },
     "user_tz": -600
    },
    "id": "WUznpVloD8SW",
    "outputId": "88cbbf5e-730b-431c-e171-591a7fe018e7"
   },
   "outputs": [
    {
     "data": {
      "image/png": "[encoded data removed]",
      "text/plain": [
       "<Figure size 432x288 with 1 Axes>"
      ]
     },
     "metadata": {
      "tags": []
     },
     "output_type": "display_data"
    }
   ],
   "source": [
    "plt.scatter(sample['carat'], sample['price']);"
   ]
  },
  {
   "cell_type": "code",
   "execution_count": 46,
   "metadata": {
    "colab": {
     "base_uri": "https://localhost:8080/",
     "height": 269
    },
    "colab_type": "code",
    "executionInfo": {
     "elapsed": 3234,
     "status": "ok",
     "timestamp": 1568772002047,
     "user": {
      "displayName": "Bernard O'meara",
      "photoUrl": "https://lh3.googleusercontent.com/a-/AAuE7mBr4-B95YsoQ3i1u9jqjEnVFKokkvd5ysVyPBie=s64",
      "userId": "13613234899726494423"
     },
     "user_tz": -600
    },
    "id": "SZvirOKPEJb-",
    "outputId": "e94ac4a9-67e8-4af8-abce-fa61e0973bdc"
   },
   "outputs": [
    {
     "data": {
      "image/png": "[encoded data removed]",
      "text/plain": [
       "<Figure size 432x288 with 1 Axes>"
      ]
     },
     "metadata": {
      "tags": []
     },
     "output_type": "display_data"
    }
   ],
   "source": [
    "plt.scatter(sample['cut'], sample['price']);"
   ]
  },
  {
   "cell_type": "code",
   "execution_count": 47,
   "metadata": {
    "colab": {
     "base_uri": "https://localhost:8080/",
     "height": 269
    },
    "colab_type": "code",
    "executionInfo": {
     "elapsed": 3213,
     "status": "ok",
     "timestamp": 1568772002049,
     "user": {
      "displayName": "Bernard O'meara",
      "photoUrl": "https://lh3.googleusercontent.com/a-/AAuE7mBr4-B95YsoQ3i1u9jqjEnVFKokkvd5ysVyPBie=s64",
      "userId": "13613234899726494423"
     },
     "user_tz": -600
    },
    "id": "TMUd5SmfEQAj",
    "outputId": "acbf4ac2-d853-4468-cf0d-a68fb3a2637d"
   },
   "outputs": [
    {
     "data": {
      "image/png": "[encoded data removed]",
      "text/plain": [
       "<Figure size 432x288 with 1 Axes>"
      ]
     },
     "metadata": {
      "tags": []
     },
     "output_type": "display_data"
    }
   ],
   "source": [
    "plt.scatter(sample['color'], sample['price']);"
   ]
  },
  {
   "cell_type": "code",
   "execution_count": 48,
   "metadata": {
    "colab": {
     "base_uri": "https://localhost:8080/",
     "height": 269
    },
    "colab_type": "code",
    "executionInfo": {
     "elapsed": 3192,
     "status": "ok",
     "timestamp": 1568772002052,
     "user": {
      "displayName": "Bernard O'meara",
      "photoUrl": "https://lh3.googleusercontent.com/a-/AAuE7mBr4-B95YsoQ3i1u9jqjEnVFKokkvd5ysVyPBie=s64",
      "userId": "13613234899726494423"
     },
     "user_tz": -600
    },
    "id": "XYSNMNAHEYzr",
    "outputId": "95ec0b5e-55ad-431c-e259-5706814dc057"
   },
   "outputs": [
    {
     "data": {
      "image/png": "[encoded data removed]",
      "text/plain": [
       "<Figure size 432x288 with 1 Axes>"
      ]
     },
     "metadata": {
      "tags": []
     },
     "output_type": "display_data"
    }
   ],
   "source": [
    "plt.scatter(sample['clarity'], sample['price']);"
   ]
  },
  {
   "cell_type": "code",
   "execution_count": 49,
   "metadata": {
    "colab": {
     "base_uri": "https://localhost:8080/",
     "height": 269
    },
    "colab_type": "code",
    "executionInfo": {
     "elapsed": 3175,
     "status": "ok",
     "timestamp": 1568772002060,
     "user": {
      "displayName": "Bernard O'meara",
      "photoUrl": "https://lh3.googleusercontent.com/a-/AAuE7mBr4-B95YsoQ3i1u9jqjEnVFKokkvd5ysVyPBie=s64",
      "userId": "13613234899726494423"
     },
     "user_tz": -600
    },
    "id": "Lr4eE0omEdi2",
    "outputId": "dd75a3a8-4f05-4e98-ce80-fc24c7ef0477"
   },
   "outputs": [
    {
     "data": {
      "image/png": "[encoded data removed]",
      "text/plain": [
       "<Figure size 432x288 with 1 Axes>"
      ]
     },
     "metadata": {
      "tags": []
     },
     "output_type": "display_data"
    }
   ],
   "source": [
    "plt.scatter(sample['depth'], sample['price']);"
   ]
  },
  {
   "cell_type": "code",
   "execution_count": 57,
   "metadata": {
    "colab": {
     "base_uri": "https://localhost:8080/",
     "height": 269
    },
    "colab_type": "code",
    "executionInfo": {
     "elapsed": 667,
     "status": "ok",
     "timestamp": 1568773477186,
     "user": {
      "displayName": "Bernard O'meara",
      "photoUrl": "https://lh3.googleusercontent.com/a-/AAuE7mBr4-B95YsoQ3i1u9jqjEnVFKokkvd5ysVyPBie=s64",
      "userId": "13613234899726494423"
     },
     "user_tz": -600
    },
    "id": "-KJV_XSmLziO",
    "outputId": "6bdb564e-2936-4032-db00-f570489c9ce2"
   },
   "outputs": [
    {
     "data": {
      "image/png": "[encoded data removed]",
      "text/plain": [
       "<Figure size 432x288 with 1 Axes>"
      ]
     },
     "metadata": {
      "tags": []
     },
     "output_type": "display_data"
    }
   ],
   "source": [
    "plt.hist(sample['depth']);"
   ]
  },
  {
   "cell_type": "code",
   "execution_count": 50,
   "metadata": {
    "colab": {
     "base_uri": "https://localhost:8080/",
     "height": 269
    },
    "colab_type": "code",
    "executionInfo": {
     "elapsed": 3951,
     "status": "ok",
     "timestamp": 1568772002858,
     "user": {
      "displayName": "Bernard O'meara",
      "photoUrl": "https://lh3.googleusercontent.com/a-/AAuE7mBr4-B95YsoQ3i1u9jqjEnVFKokkvd5ysVyPBie=s64",
      "userId": "13613234899726494423"
     },
     "user_tz": -600
    },
    "id": "lb1d-SwCElc5",
    "outputId": "8e178d1e-2321-4702-cfb6-1acf0264c55a"
   },
   "outputs": [
    {
     "data": {
      "image/png": "[encoded data removed]",
      "text/plain": [
       "<Figure size 432x288 with 1 Axes>"
      ]
     },
     "metadata": {
      "tags": []
     },
     "output_type": "display_data"
    }
   ],
   "source": [
    "plt.scatter(sample['table'], sample['price']);"
   ]
  },
  {
   "cell_type": "code",
   "execution_count": 55,
   "metadata": {
    "colab": {
     "base_uri": "https://localhost:8080/",
     "height": 269
    },
    "colab_type": "code",
    "executionInfo": {
     "elapsed": 766,
     "status": "ok",
     "timestamp": 1568773415466,
     "user": {
      "displayName": "Bernard O'meara",
      "photoUrl": "https://lh3.googleusercontent.com/a-/AAuE7mBr4-B95YsoQ3i1u9jqjEnVFKokkvd5ysVyPBie=s64",
      "userId": "13613234899726494423"
     },
     "user_tz": -600
    },
    "id": "q9mq-G_5LhPo",
    "outputId": "83f96a47-2d9e-4fd7-f4a4-ed9945927ed7"
   },
   "outputs": [
    {
     "data": {
      "image/png": "[encoded data removed]",
      "text/plain": [
       "<Figure size 432x288 with 1 Axes>"
      ]
     },
     "metadata": {
      "tags": []
     },
     "output_type": "display_data"
    }
   ],
   "source": [
    "plt.hist(sample['table']);"
   ]
  },
  {
   "cell_type": "code",
   "execution_count": 51,
   "metadata": {
    "colab": {
     "base_uri": "https://localhost:8080/",
     "height": 269
    },
    "colab_type": "code",
    "executionInfo": {
     "elapsed": 3930,
     "status": "ok",
     "timestamp": 1568772002860,
     "user": {
      "displayName": "Bernard O'meara",
      "photoUrl": "https://lh3.googleusercontent.com/a-/AAuE7mBr4-B95YsoQ3i1u9jqjEnVFKokkvd5ysVyPBie=s64",
      "userId": "13613234899726494423"
     },
     "user_tz": -600
    },
    "id": "YnVnQva4ErnQ",
    "outputId": "6f579fa6-37b0-40e2-8d92-7ee70e315516"
   },
   "outputs": [
    {
     "data": {
      "image/png": "[encoded data removed]",
      "text/plain": [
       "<Figure size 432x288 with 1 Axes>"
      ]
     },
     "metadata": {
      "tags": []
     },
     "output_type": "display_data"
    }
   ],
   "source": [
    "plt.scatter(sample['x'], sample['price']);"
   ]
  },
  {
   "cell_type": "code",
   "execution_count": 52,
   "metadata": {
    "colab": {
     "base_uri": "https://localhost:8080/",
     "height": 269
    },
    "colab_type": "code",
    "executionInfo": {
     "elapsed": 3913,
     "status": "ok",
     "timestamp": 1568772002863,
     "user": {
      "displayName": "Bernard O'meara",
      "photoUrl": "https://lh3.googleusercontent.com/a-/AAuE7mBr4-B95YsoQ3i1u9jqjEnVFKokkvd5ysVyPBie=s64",
      "userId": "13613234899726494423"
     },
     "user_tz": -600
    },
    "id": "-R5PzsdaEvEn",
    "outputId": "71a096f3-9d4e-4e36-9b33-7f808063e1a7"
   },
   "outputs": [
    {
     "data": {
      "image/png": "[encoded data removed]",
      "text/plain": [
       "<Figure size 432x288 with 1 Axes>"
      ]
     },
     "metadata": {
      "tags": []
     },
     "output_type": "display_data"
    }
   ],
   "source": [
    "plt.scatter(sample['y'], sample['price']);"
   ]
  },
  {
   "cell_type": "code",
   "execution_count": 53,
   "metadata": {
    "colab": {
     "base_uri": "https://localhost:8080/",
     "height": 269
    },
    "colab_type": "code",
    "executionInfo": {
     "elapsed": 3895,
     "status": "ok",
     "timestamp": 1568772002864,
     "user": {
      "displayName": "Bernard O'meara",
      "photoUrl": "https://lh3.googleusercontent.com/a-/AAuE7mBr4-B95YsoQ3i1u9jqjEnVFKokkvd5ysVyPBie=s64",
      "userId": "13613234899726494423"
     },
     "user_tz": -600
    },
    "id": "NqyVTck0Ex9Q",
    "outputId": "89b2a0b9-802c-443a-8c82-0e778237d3ef"
   },
   "outputs": [
    {
     "data": {
      "image/png": "[encoded data removed]",
      "text/plain": [
       "<Figure size 432x288 with 1 Axes>"
      ]
     },
     "metadata": {
      "tags": []
     },
     "output_type": "display_data"
    }
   ],
   "source": [
    "plt.scatter(sample['z'], sample['price']);"
   ]
  },
  {
   "cell_type": "code",
   "execution_count": 0,
   "metadata": {
    "colab": {},
    "colab_type": "code",
    "id": "ot5GBblxE0pp"
   },
   "outputs": [],
   "source": []
  }
 ],
 "metadata": {
  "colab": {
   "collapsed_sections": [],
   "name": "Diamonds exploratory.ipynb",
   "provenance": []
  },
  "kernelspec": {
   "display_name": "data",
   "language": "python",
   "name": "data"
  },
  "language_info": {
   "codemirror_mode": {
    "name": "ipython",
    "version": 3
   },
   "file_extension": ".py",
   "mimetype": "text/x-python",
   "name": "python",
   "nbconvert_exporter": "python",
   "pygments_lexer": "ipython3",
   "version": "3.7.4"
  }
 },
 "nbformat": 4,
 "nbformat_minor": 1
}
